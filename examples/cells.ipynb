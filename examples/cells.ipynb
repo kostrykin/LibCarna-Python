{
 "cells": [
  {
   "cell_type": "markdown",
   "id": "3cdf478e",
   "metadata": {},
   "source": [
    "# Cells"
   ]
  },
  {
   "cell_type": "code",
   "execution_count": null,
   "id": "59e8a2c3",
   "metadata": {
    "vscode": {
     "languageId": "plaintext"
    }
   },
   "outputs": [],
   "source": [
    "import math\n",
    "import libcarna\n",
    "import skimage"
   ]
  },
  {
   "cell_type": "code",
   "execution_count": null,
   "id": "97c2c4ed",
   "metadata": {
    "vscode": {
     "languageId": "plaintext"
    }
   },
   "outputs": [],
   "source": [
    "data = skimage.data.cells3d()\n",
    "data.shape"
   ]
  },
  {
   "cell_type": "code",
   "execution_count": null,
   "id": "ed16156a",
   "metadata": {
    "vscode": {
     "languageId": "plaintext"
    }
   },
   "outputs": [],
   "source": [
    "GEOMETRY_TYPE_VOLUME = 2\n",
    "\n",
    "# Create and configure frame renderer\n",
    "mip = libcarna.mip(GEOMETRY_TYPE_VOLUME, cmap='jet')\n",
    "r = libcarna.renderer(320, 240, [mip])\n",
    "\n",
    "# Create and configure scene\n",
    "root = libcarna.node()\n",
    "libcarna.volume(\n",
    "    GEOMETRY_TYPE_VOLUME,\n",
    "    data[:, 1],\n",
    "    parent=root,\n",
    "    spacing=(1, 0.5, 0.5),\n",
    "    local_transform=libcarna.rotate('y', 90).rotate('x', -35)\n",
    ")\n",
    "camera = libcarna.camera(\n",
    "    parent=root,\n",
    "    projection=r.frustum(fov=90, z_near=1, z_far=500),\n",
    "    local_transform=libcarna.translate(0, 0, 100),\n",
    ")\n",
    "\n",
    "# Render\n",
    "libcarna.imshow(r.render(camera))"
   ]
  },
  {
   "cell_type": "code",
   "execution_count": null,
   "id": "d35452de",
   "metadata": {
    "vscode": {
     "languageId": "plaintext"
    }
   },
   "outputs": [],
   "source": [
    "# Show as animation\n",
    "libcarna.imshow(\n",
    "    libcarna.animation(\n",
    "        [\n",
    "            libcarna.animation.swing_local(camera, amplitude=22.5)\n",
    "        ],\n",
    "        n_frames=50,\n",
    "    ).render(r, camera),\n",
    "    fps=15,\n",
    ")"
   ]
  }
 ],
 "metadata": {
  "language_info": {
   "name": "python"
  }
 },
 "nbformat": 4,
 "nbformat_minor": 5
}
