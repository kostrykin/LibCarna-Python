{
 "cells": [
  {
   "cell_type": "markdown",
   "id": "1171f244",
   "metadata": {},
   "source": [
    "# Introduction"
   ]
  },
  {
   "cell_type": "code",
   "execution_count": 1,
   "id": "3bf7058d",
   "metadata": {
    "execution": {
     "iopub.execute_input": "2025-05-09T08:07:02.983009Z",
     "iopub.status.busy": "2025-05-09T08:07:02.982615Z",
     "iopub.status.idle": "2025-05-09T08:07:03.546295Z",
     "shell.execute_reply": "2025-05-09T08:07:03.545851Z"
    },
    "vscode": {
     "languageId": "plaintext"
    }
   },
   "outputs": [],
   "source": [
    "import libcarna\n",
    "import matplotlib.pyplot as plt"
   ]
  },
  {
   "cell_type": "markdown",
   "id": "61f2f668",
   "metadata": {},
   "source": [
    "## Meshes"
   ]
  },
  {
   "cell_type": "markdown",
   "id": "ab31c1d4",
   "metadata": {},
   "source": [
    "Using polygonal geometries is useful, for example, to create *markers* or to generally enrich visualizations. In 3D\n",
    "graphics, *meshes* are used to define polygonal geometries. We start with the definition of a mesh for a *cube*:"
   ]
  },
  {
   "cell_type": "code",
   "execution_count": 2,
   "id": "cd38b675",
   "metadata": {
    "execution": {
     "iopub.execute_input": "2025-05-09T08:07:03.547661Z",
     "iopub.status.busy": "2025-05-09T08:07:03.547490Z",
     "iopub.status.idle": "2025-05-09T08:07:03.549577Z",
     "shell.execute_reply": "2025-05-09T08:07:03.549274Z"
    },
    "vscode": {
     "languageId": "plaintext"
    }
   },
   "outputs": [],
   "source": [
    "cube = libcarna.meshes.create_box(40, 40, 40)"
   ]
  },
  {
   "cell_type": "markdown",
   "id": "d618b43b",
   "metadata": {},
   "source": [
    "The size of the cube is given in *scene units* (SU), and here it is 40 SU in width, height, and depth. Scene units can\n",
    "be anything that we agree them to be, like micrometers (e.g., for visualization of cellular image data) or millimeters\n",
    "(e.g., for image data from computer tomography). It is only important that they are used consistently.\n",
    "\n",
    "Next, we define some *materials*:"
   ]
  },
  {
   "cell_type": "code",
   "execution_count": 3,
   "id": "8518d1b2",
   "metadata": {
    "execution": {
     "iopub.execute_input": "2025-05-09T08:07:03.551059Z",
     "iopub.status.busy": "2025-05-09T08:07:03.550955Z",
     "iopub.status.idle": "2025-05-09T08:07:03.553016Z",
     "shell.execute_reply": "2025-05-09T08:07:03.552723Z"
    },
    "vscode": {
     "languageId": "plaintext"
    }
   },
   "outputs": [],
   "source": [
    "green = libcarna.material('solid', color=libcarna.color.GREEN)\n",
    "red   = libcarna.material('solid', color=libcarna.color.RED  )"
   ]
  },
  {
   "cell_type": "markdown",
   "id": "d2571cec",
   "metadata": {},
   "source": [
    "Materials determine how meshes (i.e. polygonal gemetries) are rendered. In LibCarna, a material consists of a *shader*\n",
    "and a set of *parameters* like colors. Supported shaders comprise `solid` for materials whose colors are affected by\n",
    "light (the default), and `unshaded` for materials that are colored uniformly.\n",
    "\n",
    "## Scenes\n",
    "\n",
    "Now that we have a mesh and some materials in place, we can create a *scene* that defines some spatial relations. We\n",
    "create two spatial `geometry` objects, both using the `cube` mesh, but with different colors:"
   ]
  },
  {
   "cell_type": "code",
   "execution_count": 4,
   "id": "df9403bf",
   "metadata": {
    "execution": {
     "iopub.execute_input": "2025-05-09T08:07:03.554627Z",
     "iopub.status.busy": "2025-05-09T08:07:03.554436Z",
     "iopub.status.idle": "2025-05-09T08:07:03.558883Z",
     "shell.execute_reply": "2025-05-09T08:07:03.558544Z"
    },
    "vscode": {
     "languageId": "plaintext"
    }
   },
   "outputs": [
    {
     "data": {
      "text/plain": [
       "<libcarna._spatial.geometry.<locals>.Geometry at 0x798f2487ac30>"
      ]
     },
     "execution_count": 4,
     "metadata": {},
     "output_type": "execute_result"
    }
   ],
   "source": [
    "GEOMETRY_TYPE_OPAQUE = 1\n",
    "\n",
    "root = libcarna.node()\n",
    "\n",
    "libcarna.geometry(\n",
    "    GEOMETRY_TYPE_OPAQUE,\n",
    "    parent=root,\n",
    "    features={\n",
    "        libcarna.mesh_renderer.ROLE_DEFAULT_MESH: cube,\n",
    "        libcarna.mesh_renderer.ROLE_DEFAULT_MATERIAL: green,\n",
    "    },\n",
    ").translate(-10, -10, -40)\n",
    "\n",
    "libcarna.geometry(\n",
    "    GEOMETRY_TYPE_OPAQUE,\n",
    "    parent=root,\n",
    "    features={\n",
    "        libcarna.mesh_renderer.ROLE_DEFAULT_MESH: cube,\n",
    "        libcarna.mesh_renderer.ROLE_DEFAULT_MATERIAL: red,\n",
    "    },\n",
    ").translate(+10, +10, +40)"
   ]
  },
  {
   "cell_type": "markdown",
   "id": "d34de318",
   "metadata": {},
   "source": [
    "*Scenes* are defined hierarchically, so they form a tree-like structure. The local coordinate system of a node always\n",
    "is defined with respect to the coordinate system of its parent node. In this example, the green cube is moved by -10 SU\n",
    "along the x- and y-axes, and by -40 SU along the z-axis. The red cube is moved in the opposite direction.\n",
    "\n",
    "Note on `GEOMETRY_TYPE_OPAQUE`: A *geometry type* is an arbitrary integer constant, that establishes a relation between\n",
    "the `geometry` nodes of a scene, and the corresponding rendering stages (see [below](#Rendering)).\n",
    "\n",
    "Finally, we define a `camera` that will serve as the point of view for scene rendering:"
   ]
  },
  {
   "cell_type": "code",
   "execution_count": 5,
   "id": "4a1a1c31",
   "metadata": {
    "execution": {
     "iopub.execute_input": "2025-05-09T08:07:03.560675Z",
     "iopub.status.busy": "2025-05-09T08:07:03.560374Z",
     "iopub.status.idle": "2025-05-09T08:07:03.562477Z",
     "shell.execute_reply": "2025-05-09T08:07:03.562138Z"
    },
    "vscode": {
     "languageId": "plaintext"
    }
   },
   "outputs": [],
   "source": [
    "camera = (\n",
    "    libcarna.camera(parent=root)\n",
    "    .frustum(fov=90, z_near=1, z_far=1000)\n",
    "    .translate(0, 0, 250)\n",
    ")"
   ]
  },
  {
   "cell_type": "markdown",
   "id": "0d14105e",
   "metadata": {},
   "source": [
    "The `frustum` method defines the projection from 3D to planar coordinates. The `fov` argument defines the *field of\n",
    "view* of the camera in degrees. The `z_near` and `z_far` arguments define the distance of the *near and far clipping\n",
    "planes* to the camera; geometries, that are closer than 1 SU or farther than 1000 SU, will not be rendered.\n",
    "\n",
    "## Rendering\n",
    "\n",
    "Now we are all set to perform the rendering — almost! One ingredient is missing: The *renderer*. We only have *opaque*\n",
    "geometries involved, so we set up the rendering pipeline accordingly:"
   ]
  },
  {
   "cell_type": "code",
   "execution_count": 6,
   "id": "0ca491a8",
   "metadata": {
    "execution": {
     "iopub.execute_input": "2025-05-09T08:07:03.564105Z",
     "iopub.status.busy": "2025-05-09T08:07:03.563863Z",
     "iopub.status.idle": "2025-05-09T08:07:03.632969Z",
     "shell.execute_reply": "2025-05-09T08:07:03.632507Z"
    },
    "vscode": {
     "languageId": "plaintext"
    }
   },
   "outputs": [],
   "source": [
    "opaque = libcarna.opaque_renderer(GEOMETRY_TYPE_OPAQUE)\n",
    "r = libcarna.renderer(500, 370, [opaque])"
   ]
  },
  {
   "cell_type": "markdown",
   "id": "b1e98946",
   "metadata": {},
   "source": [
    "Each renderer can have an arbitrary number of *rendering stages*. Here, we only use the `opaque` rendering stage to\n",
    "render all geometries in the scene that we have annotated with the `GEOMETRY_TYPE_OPAQUE` as the geometry type.\n",
    "\n",
    "And then it's time to render. We can inspect the result with matplotlib, for example:"
   ]
  },
  {
   "cell_type": "code",
   "execution_count": 7,
   "id": "37ff9c22",
   "metadata": {
    "execution": {
     "iopub.execute_input": "2025-05-09T08:07:03.634572Z",
     "iopub.status.busy": "2025-05-09T08:07:03.634465Z",
     "iopub.status.idle": "2025-05-09T08:07:03.729264Z",
     "shell.execute_reply": "2025-05-09T08:07:03.728914Z"
    },
    "vscode": {
     "languageId": "plaintext"
    }
   },
   "outputs": [
    {
     "data": {
      "text/plain": [
       "<matplotlib.image.AxesImage at 0x798f24ac6d80>"
      ]
     },
     "execution_count": 7,
     "metadata": {},
     "output_type": "execute_result"
    },
    {
     "data": {
      "image/png": "[encoded data removed]",
      "text/plain": [
       "<Figure size 640x480 with 1 Axes>"
      ]
     },
     "metadata": {},
     "output_type": "display_data"
    }
   ],
   "source": [
    "img = r.render(camera)\n",
    "plt.imshow(img)"
   ]
  },
  {
   "cell_type": "markdown",
   "id": "83a936e6",
   "metadata": {},
   "source": [
    "## Animations\n",
    "\n",
    "It is much easier to visually grasp the information in a 3D scene by looking at it from different angles. For this\n",
    "reason, there is a set of convenience functions that fascilitates creating animations, by rendering multiple frames at\n",
    "once:"
   ]
  },
  {
   "cell_type": "code",
   "execution_count": 8,
   "id": "10ab7a0a",
   "metadata": {
    "execution": {
     "iopub.execute_input": "2025-05-09T08:07:03.730836Z",
     "iopub.status.busy": "2025-05-09T08:07:03.730725Z",
     "iopub.status.idle": "2025-05-09T08:07:03.866223Z",
     "shell.execute_reply": "2025-05-09T08:07:03.865768Z"
    },
    "vscode": {
     "languageId": "plaintext"
    }
   },
   "outputs": [
    {
     "data": {
      "text/html": [
       "\n",
       "        <div style=\"display: inline-flex; padding: 0.5em;\">\n",
       "            <div style=\"display: inline-block; font-size: 0;\">\n",
       "                <video autoplay loop muted style=\"max-width: 100%;\"><source type=\"video/mp4\" src=\"data:video/mp4;base64, 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\"/></video>\n",
       "            </div>\n",
       "            \n",
       "        </div>\n",
       "        "
      ],
      "text/plain": [
       "<IPython.core.display.HTML object>"
      ]
     },
     "execution_count": 8,
     "metadata": {},
     "output_type": "execute_result"
    }
   ],
   "source": [
    "# Define animation\n",
    "animation = libcarna.animate(\n",
    "    libcarna.animate.rotate_local(camera),\n",
    "    n_frames=50,\n",
    ")\n",
    "\n",
    "# Render and show animation\n",
    "libcarna.imshow(animation.render(r, camera))"
   ]
  },
  {
   "cell_type": "markdown",
   "id": "7d4913a6",
   "metadata": {},
   "source": [
    "In this example, the camera is rotated around the *center of the scene* (more precisely: around it's parent node, that\n",
    "happens to be the ``root`` node of the scene). The scene is rendered from 50 different angles. For each angle, the\n",
    "result is a NumPy array.\n",
    "\n",
    "Use `libcarna.imshow` to view animations, matplotlib does not work nicely."
   ]
  }
 ],
 "metadata": {
  "language_info": {
   "codemirror_mode": {
    "name": "ipython",
    "version": 3
   },
   "file_extension": ".py",
   "mimetype": "text/x-python",
   "name": "python",
   "nbconvert_exporter": "python",
   "pygments_lexer": "ipython3",
   "version": "3.12.10"
  }
 },
 "nbformat": 4,
 "nbformat_minor": 5
}
