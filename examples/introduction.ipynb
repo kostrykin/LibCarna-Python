{
 "cells": [
  {
   "cell_type": "markdown",
   "id": "1171f244",
   "metadata": {},
   "source": [
    "# Introduction"
   ]
  },
  {
   "cell_type": "code",
   "execution_count": 1,
   "id": "3bf7058d",
   "metadata": {
    "execution": {
     "iopub.execute_input": "2025-05-07T13:46:01.643863Z",
     "iopub.status.busy": "2025-05-07T13:46:01.643500Z",
     "iopub.status.idle": "2025-05-07T13:46:02.194657Z",
     "shell.execute_reply": "2025-05-07T13:46:02.194204Z"
    },
    "vscode": {
     "languageId": "plaintext"
    }
   },
   "outputs": [],
   "source": [
    "import libcarna\n",
    "import matplotlib.pyplot as plt"
   ]
  },
  {
   "cell_type": "markdown",
   "id": "61f2f668",
   "metadata": {},
   "source": [
    "## Meshes"
   ]
  },
  {
   "cell_type": "markdown",
   "id": "ab31c1d4",
   "metadata": {},
   "source": [
    "Using polygonal geometries is useful, for example, to create *markers* or to generally enrich visualizations. In 3D\n",
    "graphics, *meshes* are used to define polygonal geometries. We start with the definition of a mesh for a *cube*:"
   ]
  },
  {
   "cell_type": "code",
   "execution_count": 2,
   "id": "cd38b675",
   "metadata": {
    "execution": {
     "iopub.execute_input": "2025-05-07T13:46:02.196363Z",
     "iopub.status.busy": "2025-05-07T13:46:02.196168Z",
     "iopub.status.idle": "2025-05-07T13:46:02.198198Z",
     "shell.execute_reply": "2025-05-07T13:46:02.197851Z"
    },
    "vscode": {
     "languageId": "plaintext"
    }
   },
   "outputs": [],
   "source": [
    "cube = libcarna.meshes.create_box(40, 40, 40)"
   ]
  },
  {
   "cell_type": "markdown",
   "id": "d618b43b",
   "metadata": {},
   "source": [
    "The size of the cube is given in *scene units* (SU), and here it is 40 SU in width, height, and depth. Scene units can\n",
    "be anything that we agree them to be, like micrometers (e.g., for visualization of cellular image data) or millimeters\n",
    "(e.g., for image data from computer tomography). It is only important that they are used consistently.\n",
    "\n",
    "Next, we define some *materials*:"
   ]
  },
  {
   "cell_type": "code",
   "execution_count": 3,
   "id": "8518d1b2",
   "metadata": {
    "execution": {
     "iopub.execute_input": "2025-05-07T13:46:02.199797Z",
     "iopub.status.busy": "2025-05-07T13:46:02.199591Z",
     "iopub.status.idle": "2025-05-07T13:46:02.201611Z",
     "shell.execute_reply": "2025-05-07T13:46:02.201276Z"
    },
    "vscode": {
     "languageId": "plaintext"
    }
   },
   "outputs": [],
   "source": [
    "green = libcarna.material('solid', color=libcarna.color.GREEN)\n",
    "red   = libcarna.material('solid', color=libcarna.color.RED  )"
   ]
  },
  {
   "cell_type": "markdown",
   "id": "d2571cec",
   "metadata": {},
   "source": [
    "Materials determine how meshes (i.e. polygonal gemetries) are rendered. In LibCarna, a material consists of a *shader*\n",
    "and a set of *parameters* like colors. Supported shaders comprise `solid` for materials whose colors are affected by\n",
    "light (the default), and `unshaded` for materials that are colored uniformly.\n",
    "\n",
    "## Scenes\n",
    "\n",
    "Now that we have a mesh and some materials in place, we can create a *scene* that defines some spatial relations. We\n",
    "create two spatial `geometry` objects, both using the `cube` mesh, but with different colors:"
   ]
  },
  {
   "cell_type": "code",
   "execution_count": 4,
   "id": "df9403bf",
   "metadata": {
    "execution": {
     "iopub.execute_input": "2025-05-07T13:46:02.203216Z",
     "iopub.status.busy": "2025-05-07T13:46:02.202998Z",
     "iopub.status.idle": "2025-05-07T13:46:02.207413Z",
     "shell.execute_reply": "2025-05-07T13:46:02.207082Z"
    },
    "vscode": {
     "languageId": "plaintext"
    }
   },
   "outputs": [
    {
     "data": {
      "text/plain": [
       "<libcarna._spatial.geometry.<locals>.Geometry at 0x7c3344bf0f50>"
      ]
     },
     "execution_count": 4,
     "metadata": {},
     "output_type": "execute_result"
    }
   ],
   "source": [
    "GEOMETRY_TYPE_OPAQUE = 1\n",
    "\n",
    "root = libcarna.node()\n",
    "\n",
    "libcarna.geometry(\n",
    "    GEOMETRY_TYPE_OPAQUE,\n",
    "    parent=root,\n",
    "    features={\n",
    "        libcarna.mesh.ROLE_DEFAULT_MESH: cube,\n",
    "        libcarna.mesh.ROLE_DEFAULT_MATERIAL: green,\n",
    "    },\n",
    ").translate(-10, -10, -40)\n",
    "\n",
    "libcarna.geometry(\n",
    "    GEOMETRY_TYPE_OPAQUE,\n",
    "    parent=root,\n",
    "    features={\n",
    "        libcarna.mesh.ROLE_DEFAULT_MESH: cube,\n",
    "        libcarna.mesh.ROLE_DEFAULT_MATERIAL: red,\n",
    "    },\n",
    ").translate(+10, +10, +40)"
   ]
  },
  {
   "cell_type": "markdown",
   "id": "d34de318",
   "metadata": {},
   "source": [
    "*Scenes* are defined hierarchically, so they form a tree-like structure. The local coordinate system of a node always\n",
    "is defined with respect to the coordinate system of its parent node. In this example, the green cube is moved by -10 SU\n",
    "along the x- and y-axes, and by -40 SU along the z-axis. The red cube is moved in the opposite direction.\n",
    "\n",
    "Note on `GEOMETRY_TYPE_OPAQUE`: A *geometry type* is an arbitrary integer constant, that establishes a relation between\n",
    "the `geometry` nodes of a scene, and the corresponding rendering stages (see [below](#Rendering)).\n",
    "\n",
    "Finally, we define a `camera` that will serve as the point of view for scene rendering:"
   ]
  },
  {
   "cell_type": "code",
   "execution_count": 5,
   "id": "4a1a1c31",
   "metadata": {
    "execution": {
     "iopub.execute_input": "2025-05-07T13:46:02.208980Z",
     "iopub.status.busy": "2025-05-07T13:46:02.208776Z",
     "iopub.status.idle": "2025-05-07T13:46:02.210831Z",
     "shell.execute_reply": "2025-05-07T13:46:02.210487Z"
    },
    "vscode": {
     "languageId": "plaintext"
    }
   },
   "outputs": [],
   "source": [
    "camera = (\n",
    "    libcarna.camera(parent=root)\n",
    "    .frustum(fov=90, z_near=1, z_far=1000)\n",
    "    .translate(0, 0, 250)\n",
    ")"
   ]
  },
  {
   "cell_type": "markdown",
   "id": "0d14105e",
   "metadata": {},
   "source": [
    "The `frustum` method defines the projection from 3D to planar coordinates. The `fov` argument defines the *field of\n",
    "view* of the camera in degrees. The `z_near` and `z_far` arguments define the distance of the *near and far clipping\n",
    "planes* to the camera; geometries, that are closer than 1 SU or farther than 1000 SU, will not be rendered.\n",
    "\n",
    "## Rendering\n",
    "\n",
    "Now we are all set to perform the rendering — almost! One ingredient is missing: The *renderer*. We only have *opaque*\n",
    "geometries involved, so we set up the rendering pipeline accordingly:"
   ]
  },
  {
   "cell_type": "code",
   "execution_count": 6,
   "id": "0ca491a8",
   "metadata": {
    "execution": {
     "iopub.execute_input": "2025-05-07T13:46:02.212381Z",
     "iopub.status.busy": "2025-05-07T13:46:02.212180Z",
     "iopub.status.idle": "2025-05-07T13:46:02.296769Z",
     "shell.execute_reply": "2025-05-07T13:46:02.296319Z"
    },
    "vscode": {
     "languageId": "plaintext"
    }
   },
   "outputs": [],
   "source": [
    "opaque = libcarna.opaque(GEOMETRY_TYPE_OPAQUE)\n",
    "r = libcarna.renderer(800, 600, [opaque])"
   ]
  },
  {
   "cell_type": "markdown",
   "id": "b1e98946",
   "metadata": {},
   "source": [
    "Each renderer can have an arbitrary number of *rendering stages*. Here, we only use the `opaque` rendering stage to\n",
    "render all geometries in the scene that we have annotated with the `GEOMETRY_TYPE_OPAQUE` as the geometry type.\n",
    "\n",
    "And then it's time to render. We can inspect the result with matplotlib, for example:"
   ]
  },
  {
   "cell_type": "code",
   "execution_count": 7,
   "id": "37ff9c22",
   "metadata": {
    "execution": {
     "iopub.execute_input": "2025-05-07T13:46:02.298422Z",
     "iopub.status.busy": "2025-05-07T13:46:02.298280Z",
     "iopub.status.idle": "2025-05-07T13:46:02.412798Z",
     "shell.execute_reply": "2025-05-07T13:46:02.412418Z"
    },
    "vscode": {
     "languageId": "plaintext"
    }
   },
   "outputs": [
    {
     "data": {
      "text/plain": [
       "<matplotlib.image.AxesImage at 0x7c3344c3f4d0>"
      ]
     },
     "execution_count": 7,
     "metadata": {},
     "output_type": "execute_result"
    },
    {
     "data": {
      "image/png": "[encoded data removed]",
      "text/plain": [
       "<Figure size 640x480 with 1 Axes>"
      ]
     },
     "metadata": {},
     "output_type": "display_data"
    }
   ],
   "source": [
    "img = r.render(camera)\n",
    "plt.imshow(img)"
   ]
  }
 ],
 "metadata": {
  "language_info": {
   "codemirror_mode": {
    "name": "ipython",
    "version": 3
   },
   "file_extension": ".py",
   "mimetype": "text/x-python",
   "name": "python",
   "nbconvert_exporter": "python",
   "pygments_lexer": "ipython3",
   "version": "3.12.10"
  }
 },
 "nbformat": 4,
 "nbformat_minor": 5
}
