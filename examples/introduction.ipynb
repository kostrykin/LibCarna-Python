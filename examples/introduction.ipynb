{
 "cells": [
  {
   "cell_type": "markdown",
   "id": "1171f244",
   "metadata": {},
   "source": [
    "# Introduction"
   ]
  },
  {
   "cell_type": "code",
   "execution_count": 1,
   "id": "3bf7058d",
   "metadata": {
    "execution": {
     "iopub.execute_input": "2025-05-07T11:33:06.454042Z",
     "iopub.status.busy": "2025-05-07T11:33:06.453651Z",
     "iopub.status.idle": "2025-05-07T11:33:06.860675Z",
     "shell.execute_reply": "2025-05-07T11:33:06.860252Z"
    },
    "vscode": {
     "languageId": "plaintext"
    }
   },
   "outputs": [],
   "source": [
    "import libcarna"
   ]
  },
  {
   "cell_type": "markdown",
   "id": "61f2f668",
   "metadata": {},
   "source": [
    "## Meshes"
   ]
  },
  {
   "cell_type": "markdown",
   "id": "ab31c1d4",
   "metadata": {},
   "source": [
    "Using polygonal geometries is useful, for example, to create *markers* or to generally enrich visualizations. In 3D\n",
    "graphics, *meshes* are used to define polygonal geometries. We start with the definition of a mesh for a *cube*:"
   ]
  },
  {
   "cell_type": "code",
   "execution_count": 2,
   "id": "cd38b675",
   "metadata": {
    "execution": {
     "iopub.execute_input": "2025-05-07T11:33:06.862126Z",
     "iopub.status.busy": "2025-05-07T11:33:06.861959Z",
     "iopub.status.idle": "2025-05-07T11:33:06.864013Z",
     "shell.execute_reply": "2025-05-07T11:33:06.863730Z"
    },
    "vscode": {
     "languageId": "plaintext"
    }
   },
   "outputs": [],
   "source": [
    "cube = libcarna.meshes.create_box(40, 40, 40)"
   ]
  },
  {
   "cell_type": "markdown",
   "id": "d618b43b",
   "metadata": {},
   "source": [
    "The size of the cube is given in *scene units* (SU), and here it is 40 SU in width, height, and depth. Scene units can\n",
    "be anything that we agree them to be, like micrometers (e.g., for visualization of cellular image data) or millimeters\n",
    "(e.g., for image data from computer tomography). It is only important that they are used consistently.\n",
    "\n",
    "Next, we define some *materials*:"
   ]
  },
  {
   "cell_type": "code",
   "execution_count": 3,
   "id": "8518d1b2",
   "metadata": {
    "execution": {
     "iopub.execute_input": "2025-05-07T11:33:06.864930Z",
     "iopub.status.busy": "2025-05-07T11:33:06.864832Z",
     "iopub.status.idle": "2025-05-07T11:33:06.866834Z",
     "shell.execute_reply": "2025-05-07T11:33:06.866549Z"
    },
    "vscode": {
     "languageId": "plaintext"
    }
   },
   "outputs": [],
   "source": [
    "green = libcarna.material('solid', color=libcarna.color.GREEN)\n",
    "red   = libcarna.material('solid', color=libcarna.color.RED  )"
   ]
  },
  {
   "cell_type": "markdown",
   "id": "d2571cec",
   "metadata": {},
   "source": [
    "Materials determine how meshes (i.e. polygonal gemetries) are rendered. In LibCarna, a material consists of a *shader*\n",
    "and a set of *parameters* like colors. Supported shaders comprise `solid` for materials whose colors are affected by\n",
    "light (the default), and `unshaded` for materials that are colored uniformly.\n",
    "\n",
    "## Scenes\n",
    "\n",
    "Now that we have a mesh and some materials in place, we can create a *scene* that defines some spatial relations. We\n",
    "create two spatial `geometry` objects, both using the `cube` mesh, but with different colors:"
   ]
  },
  {
   "cell_type": "code",
   "execution_count": 4,
   "id": "df9403bf",
   "metadata": {
    "execution": {
     "iopub.execute_input": "2025-05-07T11:33:06.867756Z",
     "iopub.status.busy": "2025-05-07T11:33:06.867658Z",
     "iopub.status.idle": "2025-05-07T11:33:06.871978Z",
     "shell.execute_reply": "2025-05-07T11:33:06.871696Z"
    },
    "vscode": {
     "languageId": "plaintext"
    }
   },
   "outputs": [
    {
     "data": {
      "text/plain": [
       "<libcarna._spatial.geometry.<locals>.Geometry at 0x708b45f6a090>"
      ]
     },
     "execution_count": 4,
     "metadata": {},
     "output_type": "execute_result"
    }
   ],
   "source": [
    "GEOMETRY_TYPE_OPAQUE = 1\n",
    "\n",
    "root = libcarna.node()\n",
    "libcarna.geometry(\n",
    "    GEOMETRY_TYPE_OPAQUE,\n",
    "    parent=root,\n",
    "    local_transform=libcarna.translate(-10, -10, -40),\n",
    "    features={\n",
    "        libcarna.mesh.ROLE_DEFAULT_MESH: cube,\n",
    "        libcarna.mesh.ROLE_DEFAULT_MATERIAL: green,\n",
    "    },\n",
    ")\n",
    "libcarna.geometry(\n",
    "    GEOMETRY_TYPE_OPAQUE,\n",
    "    parent=root,\n",
    "    local_transform=libcarna.translate(+10, +10, +40),\n",
    "    features={\n",
    "        libcarna.mesh.ROLE_DEFAULT_MESH: cube,\n",
    "        libcarna.mesh.ROLE_DEFAULT_MATERIAL: red,\n",
    "    },\n",
    ")"
   ]
  },
  {
   "cell_type": "markdown",
   "id": "d34de318",
   "metadata": {},
   "source": [
    "*Scenes* are defined hierarchically, so they form a tree-like structure. The `local_transform` of a node defines the\n",
    "spatial relation of the node in relation to its parent node. In this example, the green cube is moved by -10 SU along\n",
    "the x- and y-axes, and by -40 SU along the z-axis. The red cube is moved in the opposite direction.\n",
    "\n",
    "Note on `GEOMETRY_TYPE_OPAQUE`: A *geometry type* is an arbitrary integer constant, that establishes a relation between\n",
    "the `geometry` nodes of a scene, and the corresponding rendering stages (see below).\n",
    "\n",
    "Finally, we define a `camera` that will serve as the point of view for scene rendering:"
   ]
  },
  {
   "cell_type": "code",
   "execution_count": 5,
   "id": "4a1a1c31",
   "metadata": {
    "execution": {
     "iopub.execute_input": "2025-05-07T11:33:06.872945Z",
     "iopub.status.busy": "2025-05-07T11:33:06.872846Z",
     "iopub.status.idle": "2025-05-07T11:33:06.874514Z",
     "shell.execute_reply": "2025-05-07T11:33:06.874245Z"
    },
    "vscode": {
     "languageId": "plaintext"
    }
   },
   "outputs": [],
   "source": [
    "#camera = libcarna.camera(\n",
    "#    parent=root,\n",
    "#    projection=r.frustum(fov=90, z_near=1, z_far=1000),\n",
    "#    local_transform=libcarna.translate(0, 0, 250),\n",
    "#)"
   ]
  },
  {
   "cell_type": "markdown",
   "id": "0d14105e",
   "metadata": {},
   "source": [
    "The `projection` defines the transformation of 3D to planar coordinates. The `frustum` method "
   ]
  }
 ],
 "metadata": {
  "language_info": {
   "codemirror_mode": {
    "name": "ipython",
    "version": 3
   },
   "file_extension": ".py",
   "mimetype": "text/x-python",
   "name": "python",
   "nbconvert_exporter": "python",
   "pygments_lexer": "ipython3",
   "version": "3.12.10"
  }
 },
 "nbformat": 4,
 "nbformat_minor": 5
}
